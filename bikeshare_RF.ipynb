{
 "metadata": {
  "name": "",
  "signature": "sha256:2105f956333ad308b2b059b55086ad8628503b1530e0e7c07b5a6ced68cf00b3"
 },
 "nbformat": 3,
 "nbformat_minor": 0,
 "worksheets": [
  {
   "cells": [
    {
     "cell_type": "code",
     "collapsed": false,
     "input": [
      "import numpy as np\n",
      "import pandas as pd\n",
      "import matplotlib.pyplot as plt\n",
      "import os\n",
      "%matplotlib inline"
     ],
     "language": "python",
     "metadata": {},
     "outputs": [],
     "prompt_number": 2
    },
    {
     "cell_type": "code",
     "collapsed": false,
     "input": [
      "ori_train = pd.read_csv('train.csv', header = 0)\n",
      "ori_test = pd.read_csv('test.csv', header = 0)"
     ],
     "language": "python",
     "metadata": {},
     "outputs": [],
     "prompt_number": 22
    },
    {
     "cell_type": "code",
     "collapsed": false,
     "input": [
      "factor_train = ori_train\n",
      "factor_train[\"weather\"] = ori_train[\"weather\"].astype(\"category\")\n",
      "factor_train[\"workingday\"] = ori_train[\"workingday\"].astype(\"category\")\n",
      "factor_train[\"season\"] = ori_train[\"season\"].astype(\"category\")\n",
      "factor_train[\"holiday\"] = ori_train[\"holiday\"].astype(\"category\")"
     ],
     "language": "python",
     "metadata": {},
     "outputs": [
      {
       "metadata": {},
       "output_type": "pyout",
       "prompt_number": 23,
       "text": [
        "datetime        object\n",
        "season        category\n",
        "holiday       category\n",
        "workingday    category\n",
        "weather       category\n",
        "temp           float64\n",
        "atemp          float64\n",
        "humidity         int64\n",
        "windspeed      float64\n",
        "casual           int64\n",
        "registered       int64\n",
        "count            int64\n",
        "dtype: object"
       ]
      }
     ],
     "prompt_number": 23
    },
    {
     "cell_type": "code",
     "collapsed": false,
     "input": [
      "factor_test = ori_test\n",
      "factor_test[\"weather\"] = ori_test[\"weather\"].astype(\"category\")\n",
      "factor_test[\"workingday\"] = ori_test[\"workingday\"].astype(\"category\")\n",
      "factor_test[\"season\"] = ori_test[\"season\"].astype(\"category\")\n",
      "factor_test[\"holiday\"] = ori_test[\"holiday\"].astype(\"category\")"
     ],
     "language": "python",
     "metadata": {},
     "outputs": [
      {
       "metadata": {},
       "output_type": "pyout",
       "prompt_number": 24,
       "text": [
        "datetime        object\n",
        "season        category\n",
        "holiday       category\n",
        "workingday    category\n",
        "weather       category\n",
        "temp           float64\n",
        "atemp          float64\n",
        "humidity         int64\n",
        "windspeed      float64\n",
        "dtype: object"
       ]
      }
     ],
     "prompt_number": 24
    },
    {
     "cell_type": "code",
     "collapsed": false,
     "input": [
      "factor_train['hour'] = pd.DatetimeIndex(factor_train.datetime).hour\n",
      "factor_test['hour'] = pd.DatetimeIndex(factor_test.datetime).hour"
     ],
     "language": "python",
     "metadata": {},
     "outputs": [],
     "prompt_number": 25
    },
    {
     "cell_type": "code",
     "collapsed": false,
     "input": [
      "factor_train['hour'] = factor_train['hour'].astype('category')\n",
      "factor_test['hour'] = factor_test['hour'].astype('category')"
     ],
     "language": "python",
     "metadata": {},
     "outputs": [],
     "prompt_number": 27
    },
    {
     "cell_type": "code",
     "collapsed": false,
     "input": [
      "factor_train['weekday'] = pd.DatetimeIndex(factor_train.datetime).dayofweek\n",
      "factor_test['weekday'] = pd.DatetimeIndex(factor_test.datetime).dayofweek"
     ],
     "language": "python",
     "metadata": {},
     "outputs": [],
     "prompt_number": 64
    },
    {
     "cell_type": "code",
     "collapsed": false,
     "input": [
      "factor_train['weekday'] = factor_train['weekday'].astype('category')\n",
      "factor_test['weekday'] = factor_test['weekday'].astype('category')"
     ],
     "language": "python",
     "metadata": {},
     "outputs": [],
     "prompt_number": 65
    },
    {
     "cell_type": "code",
     "collapsed": false,
     "input": [
      "factor_train['sunday'] = 1\n",
      "factor_test['sunday'] = 1"
     ],
     "language": "python",
     "metadata": {},
     "outputs": [],
     "prompt_number": 78
    },
    {
     "cell_type": "code",
     "collapsed": false,
     "input": [
      "factor_train.loc[factor_train.loc[:, 'weekday'] != 0, 'sunday'] = 0\n",
      "factor_test.loc[factor_train.loc[:, 'weekday'] != 0, 'sunday'] = 0"
     ],
     "language": "python",
     "metadata": {},
     "outputs": [],
     "prompt_number": 79
    },
    {
     "cell_type": "code",
     "collapsed": false,
     "input": [
      "factor_train['sunday'] = factor_train['sunday'].astype('category')\n",
      "factor_test['sunday'] = factor_test['sunday'].astype('category')"
     ],
     "language": "python",
     "metadata": {},
     "outputs": [],
     "prompt_number": 80
    },
    {
     "cell_type": "code",
     "collapsed": false,
     "input": [
      "factor_train['daypart'] = \"4\"\n",
      "factor_test['daypart'] = \"4\""
     ],
     "language": "python",
     "metadata": {},
     "outputs": [],
     "prompt_number": 96
    },
    {
     "cell_type": "code",
     "collapsed": false,
     "input": [
      "factor_train['segment'] = factor_train['hour'].astype('int')\n",
      "factor_test['segment'] = factor_test['hour'].astype('int')"
     ],
     "language": "python",
     "metadata": {},
     "outputs": [],
     "prompt_number": 97
    },
    {
     "cell_type": "code",
     "collapsed": false,
     "input": [
      "factor_train.loc[((factor_train.loc[:, 'segment'] < 10) & (factor_train.loc[:, 'segment'] > 3)), 'daypart'] = 1\n",
      "factor_test.loc[((factor_test.loc[:, 'segment'] < 10) & (factor_test.loc[:, 'segment'] > 3)), 'daypart'] = 1"
     ],
     "language": "python",
     "metadata": {},
     "outputs": [],
     "prompt_number": 98
    },
    {
     "cell_type": "code",
     "collapsed": false,
     "input": [
      "factor_train.loc[((factor_train.loc[:, 'segment'] < 16) & (factor_train.loc[:, 'segment'] > 9)), 'daypart'] = 2\n",
      "factor_test.loc[((factor_test.loc[:, 'segment'] < 16) & (factor_test.loc[:, 'segment'] > 9)), 'daypart'] = 2"
     ],
     "language": "python",
     "metadata": {},
     "outputs": [],
     "prompt_number": 99
    },
    {
     "cell_type": "code",
     "collapsed": false,
     "input": [
      "factor_train.loc[((factor_train.loc[:, 'segment'] < 22) & (factor_train.loc[:, 'segment'] > 15)), 'daypart'] = 3\n",
      "factor_test.loc[((factor_test.loc[:, 'segment'] < 22) & (factor_test.loc[:, 'segment'] > 15)), 'daypart'] = 3"
     ],
     "language": "python",
     "metadata": {},
     "outputs": [],
     "prompt_number": 100
    },
    {
     "cell_type": "code",
     "collapsed": false,
     "input": [
      "factor_test = factor_test.drop(['datetime', 'segment', 'windspeed', 'weekday'], axis = 1)"
     ],
     "language": "python",
     "metadata": {},
     "outputs": [],
     "prompt_number": 117
    },
    {
     "cell_type": "code",
     "collapsed": false,
     "input": [
      "factor_train = factor_train.drop(['datetime', 'casual', 'registered', 'segment', 'windspeed', 'weekday'], axis = 1)"
     ],
     "language": "python",
     "metadata": {},
     "outputs": [],
     "prompt_number": 118
    },
    {
     "cell_type": "code",
     "collapsed": false,
     "input": [
      "from sklearn import cross_validation\n",
      "from sklearn.ensemble import RandomForestRegressor\n",
      "from sklearn.grid_search import GridSearchCV\n",
      "from sklearn.metrics import explained_variance_score"
     ],
     "language": "python",
     "metadata": {},
     "outputs": [],
     "prompt_number": 114
    },
    {
     "cell_type": "code",
     "collapsed": false,
     "input": [
      "factor_train_target = factor_train['count'].values\n",
      "factor_train_data = factor_train.drop(['count'], axis = 1).values"
     ],
     "language": "python",
     "metadata": {},
     "outputs": [],
     "prompt_number": 120
    },
    {
     "cell_type": "code",
     "collapsed": false,
     "input": [
      "cv = cross_validation.ShuffleSplit(len(factor_train_data), n_iter = 3, test_size = 0.2, random_state = 0)"
     ],
     "language": "python",
     "metadata": {},
     "outputs": [],
     "prompt_number": 125
    },
    {
     "cell_type": "code",
     "collapsed": false,
     "input": [
      "for train, test in cv:\n",
      "    svc = RandomForestRegressor(n_estimators=100).fit(factor_train_data[train], factor_train_target[train])\n",
      "    print(\"train score: {0:.3f}, test score: {1:.3f}\\n\".format(\n",
      "        svc.score(factor_train_data[train], factor_train_target[train]), svc.score(factor_train_data[test], factor_train_target[test])))"
     ],
     "language": "python",
     "metadata": {},
     "outputs": [
      {
       "output_type": "stream",
       "stream": "stdout",
       "text": [
        "train score: 0.974, test score: 0.843\n",
        "\n",
        "train score: 0.975, test score: 0.856\n"
       ]
      },
      {
       "output_type": "stream",
       "stream": "stdout",
       "text": [
        "\n",
        "train score: 0.974, test score: 0.843\n"
       ]
      },
      {
       "output_type": "stream",
       "stream": "stdout",
       "text": [
        "\n"
       ]
      }
     ],
     "prompt_number": 126
    },
    {
     "cell_type": "code",
     "collapsed": false,
     "input": [
      "x = factor_train_data\n",
      "y = factor_train_target\n",
      "\n",
      "X_train, X_test, y_train, y_test = cross_validation.train_test_split(\n",
      "    x, y, test_size = 0.2, random_state = 0)\n",
      "\n",
      "tuned_parameters = [{'n_estimators': [10, 100, 500]}]\n",
      "scores = ['r2']\n",
      "\n",
      "for score in scores:\n",
      "    print score\n",
      "    \n",
      "    clf = GridSearchCV(RandomForestRegressor(), tuned_parameters, cv=5, scoring=score)\n",
      "    clf.fit(X_train, y_train)\n",
      "    print(\"Best parameters set found on development set:\")\n",
      "    print \"\"\n",
      "    print(clf.best_estimator_)\n",
      "    print \"\"\n",
      "    print(\"Grid scores on development set:\")\n",
      "    print \"\"\n",
      "    for params, mean_score, scores in clf.grid_scores_:\n",
      "        print(\"%0.3f (+/-%0.03f) for %r\"\n",
      "              % (mean_score, scores.std() / 2, params))\n",
      "    print \"\""
     ],
     "language": "python",
     "metadata": {},
     "outputs": [
      {
       "output_type": "stream",
       "stream": "stdout",
       "text": [
        "r2\n",
        "Best parameters set found on development set:"
       ]
      },
      {
       "output_type": "stream",
       "stream": "stdout",
       "text": [
        "\n",
        "\n",
        "RandomForestRegressor(bootstrap=True, compute_importances=None,\n",
        "           criterion='mse', max_depth=None, max_features='auto',\n",
        "           max_leaf_nodes=None, min_density=None, min_samples_leaf=1,\n",
        "           min_samples_split=2, n_estimators=500, n_jobs=1,\n",
        "           oob_score=False, random_state=None, verbose=0)\n",
        "\n",
        "Grid scores on development set:\n",
        "\n",
        "0.825 (+/-0.006) for {'n_estimators': 10}\n",
        "0.837 (+/-0.006) for {'n_estimators': 100}\n",
        "0.838 (+/-0.006) for {'n_estimators': 500}\n",
        "\n"
       ]
      }
     ],
     "prompt_number": 129
    },
    {
     "cell_type": "code",
     "collapsed": false,
     "input": [
      "factor_test_data = factor_test.values"
     ],
     "language": "python",
     "metadata": {},
     "outputs": [],
     "prompt_number": 131
    },
    {
     "cell_type": "code",
     "collapsed": false,
     "input": [
      "factor_test_target = svc.predict(factor_test_data)"
     ],
     "language": "python",
     "metadata": {},
     "outputs": [],
     "prompt_number": 145
    },
    {
     "cell_type": "code",
     "collapsed": false,
     "input": [
      "ori_test['datetime'] = ori_test['datetime'].astype('string')"
     ],
     "language": "python",
     "metadata": {},
     "outputs": [],
     "prompt_number": 166
    },
    {
     "cell_type": "code",
     "collapsed": false,
     "input": [
      "test_predict = pd.DataFrame({'count' : factor_test_target}, index=ori_test['datetime'], )"
     ],
     "language": "python",
     "metadata": {},
     "outputs": [],
     "prompt_number": 173
    },
    {
     "cell_type": "code",
     "collapsed": false,
     "input": [
      "test_predict.dtypes"
     ],
     "language": "python",
     "metadata": {},
     "outputs": [
      {
       "metadata": {},
       "output_type": "pyout",
       "prompt_number": 174,
       "text": [
        "count    float64\n",
        "dtype: object"
       ]
      }
     ],
     "prompt_number": 174
    },
    {
     "cell_type": "code",
     "collapsed": false,
     "input": [
      "test_predict.to_csv(\"test_predict.csv\")"
     ],
     "language": "python",
     "metadata": {},
     "outputs": [],
     "prompt_number": 175
    },
    {
     "cell_type": "code",
     "collapsed": false,
     "input": [],
     "language": "python",
     "metadata": {},
     "outputs": []
    }
   ],
   "metadata": {}
  }
 ]
}