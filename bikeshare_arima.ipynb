{
 "metadata": {
  "name": "",
  "signature": "sha256:ba859353903b3161536f7a5eb1046f30198185ee45fe2bd157ea340fcab6af0e"
 },
 "nbformat": 3,
 "nbformat_minor": 0,
 "worksheets": [
  {
   "cells": [
    {
     "cell_type": "code",
     "collapsed": false,
     "input": [
      "import numpy as np\n",
      "import pandas as pd\n",
      "import matplotlib.pyplot as plt\n",
      "import statsmodels.api as sm\n",
      "from statsmodels.graphics.api import qqplot\n",
      "from scipy import stats\n",
      "\n",
      "%matplotlib inline"
     ],
     "language": "python",
     "metadata": {},
     "outputs": [],
     "prompt_number": 1
    },
    {
     "cell_type": "code",
     "collapsed": false,
     "input": [
      "ori_train = pd.read_csv('train.csv', header = 0)\n",
      "ori_test = pd.read_csv('test.csv', header = 0)"
     ],
     "language": "python",
     "metadata": {},
     "outputs": [],
     "prompt_number": 2
    },
    {
     "cell_type": "code",
     "collapsed": false,
     "input": [
      "train_sample = (pd.DataFrame(ori_train, columns = ['datetime', 'count']))[47: 431]\n",
      "test_sample = (pd.DataFrame(ori_train, columns = ['datetime']))[47: 431]\n",
      "train_sample.tail(3)"
     ],
     "language": "python",
     "metadata": {},
     "outputs": [
      {
       "html": [
        "<div style=\"max-height:1000px;max-width:1500px;overflow:auto;\">\n",
        "<table border=\"1\" class=\"dataframe\">\n",
        "  <thead>\n",
        "    <tr style=\"text-align: right;\">\n",
        "      <th></th>\n",
        "      <th>datetime</th>\n",
        "      <th>count</th>\n",
        "    </tr>\n",
        "  </thead>\n",
        "  <tbody>\n",
        "    <tr>\n",
        "      <th>428</th>\n",
        "      <td> 2011-01-19 21:00:00</td>\n",
        "      <td> 59</td>\n",
        "    </tr>\n",
        "    <tr>\n",
        "      <th>429</th>\n",
        "      <td> 2011-01-19 22:00:00</td>\n",
        "      <td> 59</td>\n",
        "    </tr>\n",
        "    <tr>\n",
        "      <th>430</th>\n",
        "      <td> 2011-01-19 23:00:00</td>\n",
        "      <td> 28</td>\n",
        "    </tr>\n",
        "  </tbody>\n",
        "</table>\n",
        "</div>"
       ],
       "metadata": {},
       "output_type": "pyout",
       "prompt_number": 14,
       "text": [
        "                datetime  count\n",
        "428  2011-01-19 21:00:00     59\n",
        "429  2011-01-19 22:00:00     59\n",
        "430  2011-01-19 23:00:00     28"
       ]
      }
     ],
     "prompt_number": 14
    },
    {
     "cell_type": "code",
     "collapsed": false,
     "input": [
      "#train_sample['datetime'] = pd.to_datetime(train_sample['datetime'])\n",
      "#a0 = train_sample.loc[47,'datetime']\n",
      "#a1 = train_sample.loc[48,'datetime']\n",
      "#a2 = train_sample.loc[2,'datetime']\n",
      "#copy = pd.DataFrame(columns = ['datetime', 'count'])\n",
      "#for row in train_sample.iterrows():\n",
      "#    copy.loc[0, :] = row[1]\n",
      "#    break\n",
      "#print type(a0)\n",
      "#print a0\n",
      "#print a0 + pd.Timedelta(-2, 'h')"
     ],
     "language": "python",
     "metadata": {},
     "outputs": [],
     "prompt_number": 4
    },
    {
     "cell_type": "code",
     "collapsed": false,
     "input": [
      "def datestamp_comple(time_frame):\n",
      "    \"complement the missing time units with zero value\"\n",
      "    res = pd.DataFrame(columns = ['datetime', 'count'])\n",
      "    time_form = None\n",
      "    counter = 0\n",
      "    threshold_d = 1\n",
      "    threshold_h = 18\n",
      "    for row in time_frame.iterrows():\n",
      "        time_curr = row[1][0]\n",
      "        #the difference between time units should lies in one day\n",
      "        if(time_form != None):\n",
      "            try: \n",
      "                assert (time_curr.day - time_form.day) <= threshold_d, 'D: The difference is too large!!!'\n",
      "                if(time_curr.month - time_form.month == 1):\n",
      "                    assert time_form.is_month_end, 'M: The difference is too large!!!'\n",
      "            except AssertionError, args:\n",
      "                print '%s '% (args)\n",
      "                return\n",
      "        \n",
      "        #the difference between time units exceeds one day\n",
      "        if(time_form != None and time_curr.day - time_form.day > 0):\n",
      "            delta_d = time_curr.day - time_form.day            \n",
      "            for i in range(delta_d):\n",
      "                if(i == 0):\n",
      "                    for j in range(23 - time_form.hour):\n",
      "                        res.loc[counter, :] = [time_form + pd.Timedelta(j + 1, 'h'), 0]\n",
      "                        counter += 1\n",
      "                else:\n",
      "                    for j in range(24):\n",
      "                        res.loc[counter, :] = [time_form + pd.Timedelta(j - time_form.hour, 'h') + pd.Timedelta(i, 'd'), 0]\n",
      "                        counter += 1\n",
      "            if(time_curr.hour != 0):\n",
      "                res.loc[counter, :] = [time_form + pd.Timedelta(-time_form.hour, 'h') + pd.Timedelta(delta_d, 'd'), 0]\n",
      "                time_form = time_form + pd.Timedelta(-time_form.hour, 'h') + pd.Timedelta(delta_d, 'd')\n",
      "                counter += 1\n",
      "                \n",
      "        #the difference between time units lies in one day \n",
      "        if(time_form != None and time_curr.hour - time_form.hour > 1):\n",
      "            delta_h = time_curr.hour - time_form.hour \n",
      "            try: \n",
      "                assert delta_h <= threshold_h, 'H: The difference is too large!!!'\n",
      "            except AssertionError, args:\n",
      "                print '%s '% (args)\n",
      "                return\n",
      "            for i in range(delta_h - 1):\n",
      "                res.loc[counter, :] = [time_form + pd.Timedelta(i + 1, 'h'), 0]\n",
      "                counter += 1\n",
      "                \n",
      "        res.loc[counter, :] = row[1]\n",
      "        counter += 1\n",
      "        time_form = time_curr\n",
      "    \n",
      "    return res"
     ],
     "language": "python",
     "metadata": {},
     "outputs": [],
     "prompt_number": 15
    },
    {
     "cell_type": "code",
     "collapsed": false,
     "input": [
      "train_sample['datetime'] = pd.to_datetime(train_sample['datetime'])\n",
      "result = datestamp_comple(train_sample)\n",
      "result = result[0:432]"
     ],
     "language": "python",
     "metadata": {},
     "outputs": [],
     "prompt_number": 16
    },
    {
     "cell_type": "code",
     "collapsed": false,
     "input": [
      "result1 = result.rename(columns = {'count': 'number'})\n",
      "dta = sm.datasets.co2.load_pandas().data\n",
      "#result2 = sm.tsa.seasonal_decompose(result1.count())\n",
      "print type(result1.number)\n",
      "print type(dta.co2)\n",
      "result1.head(3)"
     ],
     "language": "python",
     "metadata": {},
     "outputs": [
      {
       "output_type": "stream",
       "stream": "stdout",
       "text": [
        "<class 'pandas.core.series.Series'>\n",
        "<class 'pandas.core.series.Series'>\n"
       ]
      },
      {
       "html": [
        "<div style=\"max-height:1000px;max-width:1500px;overflow:auto;\">\n",
        "<table border=\"1\" class=\"dataframe\">\n",
        "  <thead>\n",
        "    <tr style=\"text-align: right;\">\n",
        "      <th></th>\n",
        "      <th>datetime</th>\n",
        "      <th>number</th>\n",
        "    </tr>\n",
        "  </thead>\n",
        "  <tbody>\n",
        "    <tr>\n",
        "      <th>0</th>\n",
        "      <td> 2011-01-03 00:00:00</td>\n",
        "      <td> 5</td>\n",
        "    </tr>\n",
        "    <tr>\n",
        "      <th>1</th>\n",
        "      <td> 2011-01-03 01:00:00</td>\n",
        "      <td> 2</td>\n",
        "    </tr>\n",
        "    <tr>\n",
        "      <th>2</th>\n",
        "      <td> 2011-01-03 02:00:00</td>\n",
        "      <td> 0</td>\n",
        "    </tr>\n",
        "  </tbody>\n",
        "</table>\n",
        "</div>"
       ],
       "metadata": {},
       "output_type": "pyout",
       "prompt_number": 17,
       "text": [
        "              datetime number\n",
        "0  2011-01-03 00:00:00      5\n",
        "1  2011-01-03 01:00:00      2\n",
        "2  2011-01-03 02:00:00      0"
       ]
      }
     ],
     "prompt_number": 17
    },
    {
     "cell_type": "code",
     "collapsed": false,
     "input": [
      "dta.head(3)"
     ],
     "language": "python",
     "metadata": {},
     "outputs": [
      {
       "html": [
        "<div style=\"max-height:1000px;max-width:1500px;overflow:auto;\">\n",
        "<table border=\"1\" class=\"dataframe\">\n",
        "  <thead>\n",
        "    <tr style=\"text-align: right;\">\n",
        "      <th></th>\n",
        "      <th>co2</th>\n",
        "    </tr>\n",
        "  </thead>\n",
        "  <tbody>\n",
        "    <tr>\n",
        "      <th>1958-03-29</th>\n",
        "      <td> 316.1</td>\n",
        "    </tr>\n",
        "    <tr>\n",
        "      <th>1958-04-05</th>\n",
        "      <td> 317.3</td>\n",
        "    </tr>\n",
        "    <tr>\n",
        "      <th>1958-04-12</th>\n",
        "      <td> 317.6</td>\n",
        "    </tr>\n",
        "  </tbody>\n",
        "</table>\n",
        "</div>"
       ],
       "metadata": {},
       "output_type": "pyout",
       "prompt_number": 18,
       "text": [
        "              co2\n",
        "1958-03-29  316.1\n",
        "1958-04-05  317.3\n",
        "1958-04-12  317.6"
       ]
      }
     ],
     "prompt_number": 18
    },
    {
     "cell_type": "code",
     "collapsed": false,
     "input": [
      "type(dta.index)"
     ],
     "language": "python",
     "metadata": {},
     "outputs": [
      {
       "metadata": {},
       "output_type": "pyout",
       "prompt_number": 19,
       "text": [
        "pandas.tseries.index.DatetimeIndex"
       ]
      }
     ],
     "prompt_number": 19
    },
    {
     "cell_type": "code",
     "collapsed": false,
     "input": [
      "type(result1.index)"
     ],
     "language": "python",
     "metadata": {},
     "outputs": [
      {
       "metadata": {},
       "output_type": "pyout",
       "prompt_number": 20,
       "text": [
        "pandas.core.index.Int64Index"
       ]
      }
     ],
     "prompt_number": 20
    },
    {
     "cell_type": "code",
     "collapsed": false,
     "input": [
      "type(result1.datetime)"
     ],
     "language": "python",
     "metadata": {},
     "outputs": [
      {
       "metadata": {},
       "output_type": "pyout",
       "prompt_number": 21,
       "text": [
        "pandas.core.series.Series"
       ]
      }
     ],
     "prompt_number": 21
    },
    {
     "cell_type": "code",
     "collapsed": false,
     "input": [
      "result2 = result1.set_index(pd.DatetimeIndex(result1['datetime']))\n",
      "type(result2.index)"
     ],
     "language": "python",
     "metadata": {},
     "outputs": [
      {
       "metadata": {},
       "output_type": "pyout",
       "prompt_number": 22,
       "text": [
        "pandas.tseries.index.DatetimeIndex"
       ]
      }
     ],
     "prompt_number": 22
    },
    {
     "cell_type": "code",
     "collapsed": false,
     "input": [
      "del result2['datetime']\n",
      "result2.head(3)"
     ],
     "language": "python",
     "metadata": {},
     "outputs": [
      {
       "html": [
        "<div style=\"max-height:1000px;max-width:1500px;overflow:auto;\">\n",
        "<table border=\"1\" class=\"dataframe\">\n",
        "  <thead>\n",
        "    <tr style=\"text-align: right;\">\n",
        "      <th></th>\n",
        "      <th>number</th>\n",
        "    </tr>\n",
        "  </thead>\n",
        "  <tbody>\n",
        "    <tr>\n",
        "      <th>2011-01-03 00:00:00</th>\n",
        "      <td> 5</td>\n",
        "    </tr>\n",
        "    <tr>\n",
        "      <th>2011-01-03 01:00:00</th>\n",
        "      <td> 2</td>\n",
        "    </tr>\n",
        "    <tr>\n",
        "      <th>2011-01-03 02:00:00</th>\n",
        "      <td> 0</td>\n",
        "    </tr>\n",
        "  </tbody>\n",
        "</table>\n",
        "</div>"
       ],
       "metadata": {},
       "output_type": "pyout",
       "prompt_number": 23,
       "text": [
        "                    number\n",
        "2011-01-03 00:00:00      5\n",
        "2011-01-03 01:00:00      2\n",
        "2011-01-03 02:00:00      0"
       ]
      }
     ],
     "prompt_number": 23
    },
    {
     "cell_type": "code",
     "collapsed": false,
     "input": [
      "result2.to_csv('sample.csv')"
     ],
     "language": "python",
     "metadata": {},
     "outputs": [],
     "prompt_number": 24
    },
    {
     "cell_type": "code",
     "collapsed": false,
     "input": [
      "result2['number'] = result2['number'].astype('int')"
     ],
     "language": "python",
     "metadata": {},
     "outputs": [],
     "prompt_number": 15
    }
   ],
   "metadata": {}
  }
 ]
}